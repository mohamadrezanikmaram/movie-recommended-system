{
 "cells": [
  {
   "cell_type": "markdown",
   "id": "58bf8a18",
   "metadata": {},
   "source": [
    "# **import libraries**"
   ]
  },
  {
   "cell_type": "code",
   "execution_count": 2,
   "id": "8c41f393",
   "metadata": {},
   "outputs": [],
   "source": [
    "import pandas as pd\n",
    "import numpy as np\n",
    "import matplotlib.pyplot as plt\n",
    "import sklearn.preprocessing "
   ]
  },
  {
   "cell_type": "markdown",
   "id": "21db7abd",
   "metadata": {},
   "source": [
    "# **read dataframe**"
   ]
  },
  {
   "cell_type": "code",
   "execution_count": 3,
   "id": "046f73a2",
   "metadata": {},
   "outputs": [
    {
     "data": {
      "text/html": [
       "<div>\n",
       "<style scoped>\n",
       "    .dataframe tbody tr th:only-of-type {\n",
       "        vertical-align: middle;\n",
       "    }\n",
       "\n",
       "    .dataframe tbody tr th {\n",
       "        vertical-align: top;\n",
       "    }\n",
       "\n",
       "    .dataframe thead th {\n",
       "        text-align: right;\n",
       "    }\n",
       "</style>\n",
       "<table border=\"1\" class=\"dataframe\">\n",
       "  <thead>\n",
       "    <tr style=\"text-align: right;\">\n",
       "      <th></th>\n",
       "      <th>Poster_Link</th>\n",
       "      <th>Series_Title</th>\n",
       "      <th>Released_Year</th>\n",
       "      <th>Certificate</th>\n",
       "      <th>Runtime</th>\n",
       "      <th>Genre</th>\n",
       "      <th>IMDB_Rating</th>\n",
       "      <th>Overview</th>\n",
       "      <th>Meta_score</th>\n",
       "      <th>Director</th>\n",
       "      <th>Star1</th>\n",
       "      <th>Star2</th>\n",
       "      <th>Star3</th>\n",
       "      <th>Star4</th>\n",
       "      <th>No_of_Votes</th>\n",
       "      <th>Gross</th>\n",
       "    </tr>\n",
       "  </thead>\n",
       "  <tbody>\n",
       "    <tr>\n",
       "      <th>121</th>\n",
       "      <td>https://m.media-amazon.com/images/M/MV5BZmM0NG...</td>\n",
       "      <td>Ikiru</td>\n",
       "      <td>1952</td>\n",
       "      <td>NaN</td>\n",
       "      <td>143 min</td>\n",
       "      <td>Drama</td>\n",
       "      <td>8.3</td>\n",
       "      <td>A bureaucrat tries to find a meaning in his li...</td>\n",
       "      <td>NaN</td>\n",
       "      <td>Akira Kurosawa</td>\n",
       "      <td>Takashi Shimura</td>\n",
       "      <td>Nobuo Kaneko</td>\n",
       "      <td>Shin'ichi Himori</td>\n",
       "      <td>Haruo Tanaka</td>\n",
       "      <td>68463</td>\n",
       "      <td>55,240</td>\n",
       "    </tr>\n",
       "    <tr>\n",
       "      <th>335</th>\n",
       "      <td>https://m.media-amazon.com/images/M/MV5BMTQ1ND...</td>\n",
       "      <td>Special Chabbis</td>\n",
       "      <td>2013</td>\n",
       "      <td>UA</td>\n",
       "      <td>144 min</td>\n",
       "      <td>Crime, Drama, Thriller</td>\n",
       "      <td>8.0</td>\n",
       "      <td>A gang of con-men rob prominent rich businessm...</td>\n",
       "      <td>NaN</td>\n",
       "      <td>Neeraj Pandey</td>\n",
       "      <td>Akshay Kumar</td>\n",
       "      <td>Anupam Kher</td>\n",
       "      <td>Manoj Bajpayee</td>\n",
       "      <td>Jimmy Sheirgill</td>\n",
       "      <td>51069</td>\n",
       "      <td>1,079,369</td>\n",
       "    </tr>\n",
       "  </tbody>\n",
       "</table>\n",
       "</div>"
      ],
      "text/plain": [
       "                                           Poster_Link     Series_Title  \\\n",
       "121  https://m.media-amazon.com/images/M/MV5BZmM0NG...            Ikiru   \n",
       "335  https://m.media-amazon.com/images/M/MV5BMTQ1ND...  Special Chabbis   \n",
       "\n",
       "    Released_Year Certificate  Runtime                   Genre  IMDB_Rating  \\\n",
       "121          1952         NaN  143 min                   Drama          8.3   \n",
       "335          2013          UA  144 min  Crime, Drama, Thriller          8.0   \n",
       "\n",
       "                                              Overview  Meta_score  \\\n",
       "121  A bureaucrat tries to find a meaning in his li...         NaN   \n",
       "335  A gang of con-men rob prominent rich businessm...         NaN   \n",
       "\n",
       "           Director            Star1         Star2             Star3  \\\n",
       "121  Akira Kurosawa  Takashi Shimura  Nobuo Kaneko  Shin'ichi Himori   \n",
       "335   Neeraj Pandey     Akshay Kumar   Anupam Kher    Manoj Bajpayee   \n",
       "\n",
       "               Star4  No_of_Votes      Gross  \n",
       "121     Haruo Tanaka        68463     55,240  \n",
       "335  Jimmy Sheirgill        51069  1,079,369  "
      ]
     },
     "execution_count": 3,
     "metadata": {},
     "output_type": "execute_result"
    }
   ],
   "source": [
    "movie_df = pd.read_csv(\"movie_dataset.csv\")\n",
    "movie_df.head(4)\n",
    "movie_df.sample(2)"
   ]
  },
  {
   "cell_type": "markdown",
   "id": "1bb709fe",
   "metadata": {},
   "source": [
    "# **some information of dataframe**"
   ]
  },
  {
   "cell_type": "code",
   "execution_count": 4,
   "id": "6249f5e8",
   "metadata": {},
   "outputs": [
    {
     "name": "stdout",
     "output_type": "stream",
     "text": [
      "<class 'pandas.core.frame.DataFrame'>\n",
      "RangeIndex: 1000 entries, 0 to 999\n",
      "Data columns (total 16 columns):\n",
      " #   Column         Non-Null Count  Dtype  \n",
      "---  ------         --------------  -----  \n",
      " 0   Poster_Link    1000 non-null   object \n",
      " 1   Series_Title   1000 non-null   object \n",
      " 2   Released_Year  1000 non-null   object \n",
      " 3   Certificate    899 non-null    object \n",
      " 4   Runtime        1000 non-null   object \n",
      " 5   Genre          1000 non-null   object \n",
      " 6   IMDB_Rating    1000 non-null   float64\n",
      " 7   Overview       1000 non-null   object \n",
      " 8   Meta_score     843 non-null    float64\n",
      " 9   Director       1000 non-null   object \n",
      " 10  Star1          1000 non-null   object \n",
      " 11  Star2          1000 non-null   object \n",
      " 12  Star3          1000 non-null   object \n",
      " 13  Star4          1000 non-null   object \n",
      " 14  No_of_Votes    1000 non-null   int64  \n",
      " 15  Gross          831 non-null    object \n",
      "dtypes: float64(2), int64(1), object(13)\n",
      "memory usage: 125.1+ KB\n",
      "\n",
      "\n",
      "\n",
      "\n",
      "size of column Poster_Link :1000\n",
      "size of column Series_Title :1000\n",
      "size of column Released_Year :1000\n",
      "size of column Certificate :1000\n",
      "size of column Runtime :1000\n",
      "size of column Genre :1000\n",
      "size of column IMDB_Rating :1000\n",
      "size of column Overview :1000\n",
      "size of column Meta_score :1000\n",
      "size of column Director :1000\n",
      "size of column Star1 :1000\n",
      "size of column Star2 :1000\n",
      "size of column Star3 :1000\n",
      "size of column Star4 :1000\n",
      "size of column No_of_Votes :1000\n",
      "size of column Gross :1000\n"
     ]
    },
    {
     "data": {
      "text/html": [
       "<div>\n",
       "<style scoped>\n",
       "    .dataframe tbody tr th:only-of-type {\n",
       "        vertical-align: middle;\n",
       "    }\n",
       "\n",
       "    .dataframe tbody tr th {\n",
       "        vertical-align: top;\n",
       "    }\n",
       "\n",
       "    .dataframe thead th {\n",
       "        text-align: right;\n",
       "    }\n",
       "</style>\n",
       "<table border=\"1\" class=\"dataframe\">\n",
       "  <thead>\n",
       "    <tr style=\"text-align: right;\">\n",
       "      <th></th>\n",
       "      <th>IMDB_Rating</th>\n",
       "      <th>Meta_score</th>\n",
       "      <th>No_of_Votes</th>\n",
       "    </tr>\n",
       "  </thead>\n",
       "  <tbody>\n",
       "    <tr>\n",
       "      <th>count</th>\n",
       "      <td>1000.000000</td>\n",
       "      <td>843.000000</td>\n",
       "      <td>1.000000e+03</td>\n",
       "    </tr>\n",
       "    <tr>\n",
       "      <th>mean</th>\n",
       "      <td>7.949300</td>\n",
       "      <td>77.971530</td>\n",
       "      <td>2.736929e+05</td>\n",
       "    </tr>\n",
       "    <tr>\n",
       "      <th>std</th>\n",
       "      <td>0.275491</td>\n",
       "      <td>12.376099</td>\n",
       "      <td>3.273727e+05</td>\n",
       "    </tr>\n",
       "    <tr>\n",
       "      <th>min</th>\n",
       "      <td>7.600000</td>\n",
       "      <td>28.000000</td>\n",
       "      <td>2.508800e+04</td>\n",
       "    </tr>\n",
       "    <tr>\n",
       "      <th>25%</th>\n",
       "      <td>7.700000</td>\n",
       "      <td>70.000000</td>\n",
       "      <td>5.552625e+04</td>\n",
       "    </tr>\n",
       "    <tr>\n",
       "      <th>50%</th>\n",
       "      <td>7.900000</td>\n",
       "      <td>79.000000</td>\n",
       "      <td>1.385485e+05</td>\n",
       "    </tr>\n",
       "    <tr>\n",
       "      <th>75%</th>\n",
       "      <td>8.100000</td>\n",
       "      <td>87.000000</td>\n",
       "      <td>3.741612e+05</td>\n",
       "    </tr>\n",
       "    <tr>\n",
       "      <th>max</th>\n",
       "      <td>9.300000</td>\n",
       "      <td>100.000000</td>\n",
       "      <td>2.343110e+06</td>\n",
       "    </tr>\n",
       "  </tbody>\n",
       "</table>\n",
       "</div>"
      ],
      "text/plain": [
       "       IMDB_Rating  Meta_score   No_of_Votes\n",
       "count  1000.000000  843.000000  1.000000e+03\n",
       "mean      7.949300   77.971530  2.736929e+05\n",
       "std       0.275491   12.376099  3.273727e+05\n",
       "min       7.600000   28.000000  2.508800e+04\n",
       "25%       7.700000   70.000000  5.552625e+04\n",
       "50%       7.900000   79.000000  1.385485e+05\n",
       "75%       8.100000   87.000000  3.741612e+05\n",
       "max       9.300000  100.000000  2.343110e+06"
      ]
     },
     "execution_count": 4,
     "metadata": {},
     "output_type": "execute_result"
    }
   ],
   "source": [
    "movie_df.info()\n",
    "print(\"\\n\\n\\n\")\n",
    "\n",
    "#each column size\n",
    "for i in movie_df.columns:\n",
    "  print(f\"size of column {i} :{movie_df[i].size}\")\n",
    "\n",
    "movie_df.describe()"
   ]
  },
  {
   "cell_type": "markdown",
   "id": "6671747e",
   "metadata": {},
   "source": [
    "# **save describe in a dataframe**"
   ]
  },
  {
   "cell_type": "code",
   "execution_count": 5,
   "id": "986df468",
   "metadata": {},
   "outputs": [
    {
     "data": {
      "text/plain": [
       "np.float64(7.949299999999999)"
      ]
     },
     "execution_count": 5,
     "metadata": {},
     "output_type": "execute_result"
    }
   ],
   "source": [
    "describe_df = movie_df.describe()\n",
    "describe_df['IMDB_Rating']['mean']"
   ]
  },
  {
   "cell_type": "markdown",
   "id": "60a29c6d",
   "metadata": {},
   "source": [
    "# **shape and index and ....**"
   ]
  },
  {
   "cell_type": "code",
   "execution_count": 6,
   "id": "b9fc0ef6",
   "metadata": {},
   "outputs": [
    {
     "name": "stdout",
     "output_type": "stream",
     "text": [
      "shape = (1000, 16)\n",
      "index = RangeIndex(start=0, stop=1000, step=1)\n"
     ]
    }
   ],
   "source": [
    "print(\"shape =\",movie_df.shape)\n",
    "print(\"index =\",movie_df.index)"
   ]
  },
  {
   "cell_type": "markdown",
   "id": "a07925f3",
   "metadata": {},
   "source": [
    "# **nan data for each column**"
   ]
  },
  {
   "cell_type": "code",
   "execution_count": 7,
   "id": "0b642050",
   "metadata": {},
   "outputs": [
    {
     "data": {
      "text/plain": [
       "Poster_Link        0\n",
       "Series_Title       0\n",
       "Released_Year      0\n",
       "Certificate      101\n",
       "Runtime            0\n",
       "Genre              0\n",
       "IMDB_Rating        0\n",
       "Overview           0\n",
       "Meta_score       157\n",
       "Director           0\n",
       "Star1              0\n",
       "Star2              0\n",
       "Star3              0\n",
       "Star4              0\n",
       "No_of_Votes        0\n",
       "Gross            169\n",
       "dtype: int64"
      ]
     },
     "execution_count": 7,
     "metadata": {},
     "output_type": "execute_result"
    }
   ],
   "source": [
    "movie_df.isna().sum()"
   ]
  },
  {
   "cell_type": "markdown",
   "id": "d6855081",
   "metadata": {},
   "source": [
    "# **number of rows (sample)**"
   ]
  },
  {
   "cell_type": "code",
   "execution_count": 8,
   "id": "01b1569e",
   "metadata": {},
   "outputs": [
    {
     "data": {
      "text/plain": [
       "Poster_Link        0\n",
       "Series_Title       0\n",
       "Released_Year      0\n",
       "Certificate      101\n",
       "Runtime            0\n",
       "Genre              0\n",
       "IMDB_Rating        0\n",
       "Overview           0\n",
       "Meta_score       157\n",
       "Director           0\n",
       "Star1              0\n",
       "Star2              0\n",
       "Star3              0\n",
       "Star4              0\n",
       "No_of_Votes        0\n",
       "Gross            169\n",
       "dtype: int64"
      ]
     },
     "execution_count": 8,
     "metadata": {},
     "output_type": "execute_result"
    }
   ],
   "source": [
    "len(movie_df)\n",
    "movie_df.isna().sum()\n"
   ]
  },
  {
   "cell_type": "markdown",
   "id": "151298c3",
   "metadata": {},
   "source": [
    "# delete nan data for column meta_score if ratio was less than 5 percent"
   ]
  },
  {
   "cell_type": "code",
   "execution_count": 9,
   "id": "65395250",
   "metadata": {},
   "outputs": [
    {
     "name": "stdout",
     "output_type": "stream",
     "text": [
      "<class 'pandas.core.frame.DataFrame'>\n",
      "RangeIndex: 1000 entries, 0 to 999\n",
      "Data columns (total 16 columns):\n",
      " #   Column         Non-Null Count  Dtype  \n",
      "---  ------         --------------  -----  \n",
      " 0   Poster_Link    1000 non-null   object \n",
      " 1   Series_Title   1000 non-null   object \n",
      " 2   Released_Year  1000 non-null   object \n",
      " 3   Certificate    899 non-null    object \n",
      " 4   Runtime        1000 non-null   object \n",
      " 5   Genre          1000 non-null   object \n",
      " 6   IMDB_Rating    1000 non-null   float64\n",
      " 7   Overview       1000 non-null   object \n",
      " 8   Meta_score     843 non-null    float64\n",
      " 9   Director       1000 non-null   object \n",
      " 10  Star1          1000 non-null   object \n",
      " 11  Star2          1000 non-null   object \n",
      " 12  Star3          1000 non-null   object \n",
      " 13  Star4          1000 non-null   object \n",
      " 14  No_of_Votes    1000 non-null   int64  \n",
      " 15  Gross          831 non-null    object \n",
      "dtypes: float64(2), int64(1), object(13)\n",
      "memory usage: 125.1+ KB\n"
     ]
    }
   ],
   "source": [
    "movie_df.info()"
   ]
  },
  {
   "cell_type": "code",
   "execution_count": 10,
   "id": "cbc90b76",
   "metadata": {},
   "outputs": [
    {
     "name": "stdout",
     "output_type": "stream",
     "text": [
      "ration =  15.7\n",
      "mean of meta score = 77.97153024911032\n"
     ]
    },
    {
     "name": "stderr",
     "output_type": "stream",
     "text": [
      "C:\\Users\\Heram\\AppData\\Local\\Temp\\ipykernel_11836\\2602950268.py:11: FutureWarning: A value is trying to be set on a copy of a DataFrame or Series through chained assignment using an inplace method.\n",
      "The behavior will change in pandas 3.0. This inplace method will never work because the intermediate object on which we are setting values always behaves as a copy.\n",
      "\n",
      "For example, when doing 'df[col].method(value, inplace=True)', try using 'df.method({col: value}, inplace=True)' or df[col] = df[col].method(value) instead, to perform the operation inplace on the original object.\n",
      "\n",
      "\n",
      "  movie_df['Meta_score'].fillna(movie_df['Meta_score'].mean(),inplace=True)\n"
     ]
    }
   ],
   "source": [
    "nan_ratio = movie_df['Meta_score'].isna().sum() / len(movie_df) *100\n",
    "print(\"ration = \", nan_ratio)\n",
    "\n",
    "# if ratio less than 5 drope nan data\n",
    "if nan_ratio <= 5:\n",
    "    movie_df.dropna(subset=['Meta_score'], inplace=True)\n",
    "\n",
    "# if ratio greater than 5 fill nan data with mean\n",
    "else:\n",
    "    print(\"mean of meta score =\",movie_df['Meta_score'].mean())\n",
    "    movie_df['Meta_score'].fillna(movie_df['Meta_score'].mean(),inplace=True)\n",
    "\n"
   ]
  },
  {
   "cell_type": "markdown",
   "id": "19fc63a7",
   "metadata": {},
   "source": [
    "convert gross column to numeric"
   ]
  },
  {
   "cell_type": "code",
   "execution_count": 11,
   "id": "cc0a617e",
   "metadata": {},
   "outputs": [],
   "source": [
    "#remove , \n",
    "movie_df['Gross'] = movie_df['Gross'].str.replace(',', '') \n",
    "movie_df['Gross'] = pd.to_numeric(movie_df['Gross'], errors='coerce') "
   ]
  },
  {
   "cell_type": "markdown",
   "id": "157fe575",
   "metadata": {},
   "source": [
    "# **check column certificate**"
   ]
  },
  {
   "cell_type": "code",
   "execution_count": 12,
   "id": "922b30dd",
   "metadata": {},
   "outputs": [
    {
     "name": "stdout",
     "output_type": "stream",
     "text": [
      "ration =  10.100000000000001\n"
     ]
    },
    {
     "name": "stderr",
     "output_type": "stream",
     "text": [
      "C:\\Users\\Heram\\AppData\\Local\\Temp\\ipykernel_11836\\1326908864.py:12: FutureWarning: A value is trying to be set on a copy of a DataFrame or Series through chained assignment using an inplace method.\n",
      "The behavior will change in pandas 3.0. This inplace method will never work because the intermediate object on which we are setting values always behaves as a copy.\n",
      "\n",
      "For example, when doing 'df[col].method(value, inplace=True)', try using 'df.method({col: value}, inplace=True)' or df[col] = df[col].method(value) instead, to perform the operation inplace on the original object.\n",
      "\n",
      "\n",
      "  movie_df['Certificate'].fillna(\"no certificate\",inplace=True)\n"
     ]
    }
   ],
   "source": [
    "movie_df['Certificate'].isna().sum()\n",
    "\n",
    "nan_ratio = movie_df['Certificate'].isna().sum() / len(movie_df) *100\n",
    "print(\"ration = \", nan_ratio)\n",
    "\n",
    "# if ratio less than 5 drope nan data\n",
    "if nan_ratio <= 5:\n",
    "    movie_df.dropna(subset=['Certificate'], inplace=True)\n",
    "\n",
    "# if ratio greater than 5 fill nan data with no certificate\n",
    "else:\n",
    "    movie_df['Certificate'].fillna(\"no certificate\",inplace=True)\n",
    "\n"
   ]
  },
  {
   "cell_type": "markdown",
   "id": "60f08e25",
   "metadata": {},
   "source": [
    "# **computing upper and lower bond for outlier**"
   ]
  },
  {
   "cell_type": "code",
   "execution_count": 13,
   "id": "15d818eb",
   "metadata": {},
   "outputs": [],
   "source": [
    "upper_b = movie_df['IMDB_Rating'].std()*2 + movie_df['IMDB_Rating'].mean()\n",
    "lower_b = movie_df['IMDB_Rating'].mean() - movie_df['IMDB_Rating'].std()*2 "
   ]
  },
  {
   "cell_type": "markdown",
   "id": "fc52322c",
   "metadata": {},
   "source": [
    "# **if outlier was greater than 5% inccrees range of outlire , else drope it**"
   ]
  },
  {
   "cell_type": "code",
   "execution_count": 14,
   "id": "21236fc7",
   "metadata": {},
   "outputs": [
    {
     "data": {
      "text/plain": [
       "np.float64(28.870000000000008)"
      ]
     },
     "execution_count": 14,
     "metadata": {},
     "output_type": "execute_result"
    }
   ],
   "source": [
    "outlier = movie_df['IMDB_Rating'].where((movie_df['IMDB_Rating'] < lower_b)|(movie_df['IMDB_Rating']> upper_b)).sum()\n",
    "outlier_ratio = (outlier / movie_df['IMDB_Rating'].size) *100\n",
    "outlier_ratio"
   ]
  },
  {
   "cell_type": "markdown",
   "id": "f10ad9af",
   "metadata": {},
   "source": [
    "# get numeric type to runtime column"
   ]
  },
  {
   "cell_type": "code",
   "execution_count": 15,
   "id": "126e3ef5",
   "metadata": {},
   "outputs": [
    {
     "data": {
      "text/plain": [
       "nan"
      ]
     },
     "execution_count": 15,
     "metadata": {},
     "output_type": "execute_result"
    }
   ],
   "source": [
    "# remove 'min' from column runtime\n",
    "# movie_df['Runtime'] = movie_df['Runtime'].str.replace('min', '').str.strip()\n",
    "#convert to numeric type\n",
    "movie_df['Runtime'] = pd.to_numeric(movie_df['Runtime'], errors='coerce')\n",
    "movie_df['Runtime'].mean()"
   ]
  },
  {
   "cell_type": "markdown",
   "id": "dc8709cd",
   "metadata": {},
   "source": [
    "# computing outlire range for run time"
   ]
  },
  {
   "cell_type": "code",
   "execution_count": 16,
   "id": "fb8cbc6a",
   "metadata": {},
   "outputs": [
    {
     "data": {
      "text/plain": [
       "np.float64(0.0)"
      ]
     },
     "execution_count": 16,
     "metadata": {},
     "output_type": "execute_result"
    }
   ],
   "source": [
    "upper_b = movie_df['Runtime'].std()*2 + movie_df['Runtime'].mean()\n",
    "lower_b = movie_df['Runtime'].mean() - movie_df['Runtime'].std()*2\n",
    "\n",
    "outlier = movie_df['Runtime'].where((movie_df['Runtime'] < lower_b)|(movie_df['Runtime']> upper_b)).count()\n",
    "outlier_ratio = (outlier / movie_df['IMDB_Rating'].size) *100\n",
    "outlier_ratio"
   ]
  },
  {
   "cell_type": "markdown",
   "id": "a0148c94",
   "metadata": {},
   "source": [
    "# remove rumtime outlier because less than 5%"
   ]
  },
  {
   "cell_type": "code",
   "execution_count": 17,
   "id": "d9ef7746",
   "metadata": {},
   "outputs": [
    {
     "data": {
      "text/plain": [
       "1000"
      ]
     },
     "execution_count": 17,
     "metadata": {},
     "output_type": "execute_result"
    }
   ],
   "source": [
    "\n",
    "condition = (movie_df['Runtime'] < lower_b) | (movie_df['Runtime'] > upper_b)\n",
    "movie_df = movie_df[~condition]\n",
    "len(movie_df)\n"
   ]
  },
  {
   "cell_type": "markdown",
   "id": "dccbf92f",
   "metadata": {},
   "source": [
    "# ouylier for Meta_score and check condition "
   ]
  },
  {
   "cell_type": "code",
   "execution_count": 18,
   "id": "69963ebc",
   "metadata": {},
   "outputs": [
    {
     "data": {
      "text/plain": [
       "958"
      ]
     },
     "execution_count": 18,
     "metadata": {},
     "output_type": "execute_result"
    }
   ],
   "source": [
    "upper_b = movie_df['Meta_score'].std()*2 + movie_df['Meta_score'].mean()\n",
    "lower_b = movie_df['Meta_score'].mean() - movie_df['Meta_score'].std()*2\n",
    "\n",
    "outlier = movie_df['Meta_score'].where((movie_df['Meta_score'] < lower_b)|(movie_df['Meta_score']> upper_b)).count()\n",
    "outlier_ratio = (outlier / movie_df['Meta_score'].size) *100\n",
    "outlier_ratio\n",
    "\n",
    "if outlier_ratio < 5 :\n",
    "    condition = (movie_df['Meta_score'] < lower_b) | (movie_df['Meta_score'] > upper_b)\n",
    "    movie_df = movie_df[~condition]\n",
    "len(movie_df)\n"
   ]
  },
  {
   "cell_type": "markdown",
   "id": "1b8c832f",
   "metadata": {},
   "source": [
    "# **check imdb rate range**"
   ]
  },
  {
   "cell_type": "code",
   "execution_count": 19,
   "id": "e76e5ce1",
   "metadata": {},
   "outputs": [],
   "source": [
    "movie_df = movie_df[(movie_df['IMDB_Rating'] >= 1.0) & (movie_df['IMDB_Rating'] <= 10.0)]"
   ]
  },
  {
   "cell_type": "markdown",
   "id": "2cfa8af3",
   "metadata": {},
   "source": [
    "# **saving clean movie_df  (cleaned dataframe)**"
   ]
  },
  {
   "cell_type": "code",
   "execution_count": 20,
   "id": "a9b69cd9",
   "metadata": {},
   "outputs": [],
   "source": [
    "movie_df.to_csv('clean_movies.csv', index=False, encoding='utf-8')\n"
   ]
  }
 ],
 "metadata": {
  "kernelspec": {
   "display_name": "Python 3",
   "language": "python",
   "name": "python3"
  },
  "language_info": {
   "codemirror_mode": {
    "name": "ipython",
    "version": 3
   },
   "file_extension": ".py",
   "mimetype": "text/x-python",
   "name": "python",
   "nbconvert_exporter": "python",
   "pygments_lexer": "ipython3",
   "version": "3.13.1"
  }
 },
 "nbformat": 4,
 "nbformat_minor": 5
}
