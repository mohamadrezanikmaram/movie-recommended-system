{
 "cells": [
  {
   "cell_type": "markdown",
   "id": "58bf8a18",
   "metadata": {},
   "source": [
    "# **import libraries**"
   ]
  },
  {
   "cell_type": "code",
   "execution_count": 2,
   "id": "8c41f393",
   "metadata": {},
   "outputs": [],
   "source": [
    "import pandas as pd\n",
    "import numpy as np\n",
    "import matplotlib.pyplot as plt\n",
    "import sklearn.preprocessing "
   ]
  },
  {
   "cell_type": "markdown",
   "id": "21db7abd",
   "metadata": {},
   "source": [
    "# **read dataframe**"
   ]
  },
  {
   "cell_type": "code",
   "execution_count": 3,
   "id": "046f73a2",
   "metadata": {},
   "outputs": [
    {
     "data": {
      "text/html": [
       "<div>\n",
       "<style scoped>\n",
       "    .dataframe tbody tr th:only-of-type {\n",
       "        vertical-align: middle;\n",
       "    }\n",
       "\n",
       "    .dataframe tbody tr th {\n",
       "        vertical-align: top;\n",
       "    }\n",
       "\n",
       "    .dataframe thead th {\n",
       "        text-align: right;\n",
       "    }\n",
       "</style>\n",
       "<table border=\"1\" class=\"dataframe\">\n",
       "  <thead>\n",
       "    <tr style=\"text-align: right;\">\n",
       "      <th></th>\n",
       "      <th>Poster_Link</th>\n",
       "      <th>Series_Title</th>\n",
       "      <th>Released_Year</th>\n",
       "      <th>Certificate</th>\n",
       "      <th>Runtime</th>\n",
       "      <th>Genre</th>\n",
       "      <th>IMDB_Rating</th>\n",
       "      <th>Overview</th>\n",
       "      <th>Meta_score</th>\n",
       "      <th>Director</th>\n",
       "      <th>Star1</th>\n",
       "      <th>Star2</th>\n",
       "      <th>Star3</th>\n",
       "      <th>Star4</th>\n",
       "      <th>No_of_Votes</th>\n",
       "      <th>Gross</th>\n",
       "    </tr>\n",
       "  </thead>\n",
       "  <tbody>\n",
       "    <tr>\n",
       "      <th>822</th>\n",
       "      <td>https://m.media-amazon.com/images/M/MV5BZjVkYm...</td>\n",
       "      <td>Kurenai no buta</td>\n",
       "      <td>1992</td>\n",
       "      <td>U</td>\n",
       "      <td>94 min</td>\n",
       "      <td>Animation, Adventure, Comedy</td>\n",
       "      <td>7.7</td>\n",
       "      <td>In 1930s Italy, a veteran World War I pilot is...</td>\n",
       "      <td>83.0</td>\n",
       "      <td>Hayao Miyazaki</td>\n",
       "      <td>Shûichirô Moriyama</td>\n",
       "      <td>Tokiko Katô</td>\n",
       "      <td>Bunshi Katsura Vi</td>\n",
       "      <td>Tsunehiko Kamijô</td>\n",
       "      <td>77798</td>\n",
       "      <td>NaN</td>\n",
       "    </tr>\n",
       "    <tr>\n",
       "      <th>952</th>\n",
       "      <td>https://m.media-amazon.com/images/M/MV5BMTA3OT...</td>\n",
       "      <td>The Hurricane</td>\n",
       "      <td>1999</td>\n",
       "      <td>R</td>\n",
       "      <td>146 min</td>\n",
       "      <td>Biography, Drama, Sport</td>\n",
       "      <td>7.6</td>\n",
       "      <td>The story of Rubin 'Hurricane' Carter, a boxer...</td>\n",
       "      <td>74.0</td>\n",
       "      <td>Norman Jewison</td>\n",
       "      <td>Denzel Washington</td>\n",
       "      <td>Vicellous Shannon</td>\n",
       "      <td>Deborah Kara Unger</td>\n",
       "      <td>Liev Schreiber</td>\n",
       "      <td>91557</td>\n",
       "      <td>50,668,906</td>\n",
       "    </tr>\n",
       "  </tbody>\n",
       "</table>\n",
       "</div>"
      ],
      "text/plain": [
       "                                           Poster_Link     Series_Title  \\\n",
       "822  https://m.media-amazon.com/images/M/MV5BZjVkYm...  Kurenai no buta   \n",
       "952  https://m.media-amazon.com/images/M/MV5BMTA3OT...    The Hurricane   \n",
       "\n",
       "    Released_Year Certificate  Runtime                         Genre  \\\n",
       "822          1992           U   94 min  Animation, Adventure, Comedy   \n",
       "952          1999           R  146 min       Biography, Drama, Sport   \n",
       "\n",
       "     IMDB_Rating                                           Overview  \\\n",
       "822          7.7  In 1930s Italy, a veteran World War I pilot is...   \n",
       "952          7.6  The story of Rubin 'Hurricane' Carter, a boxer...   \n",
       "\n",
       "     Meta_score        Director               Star1              Star2  \\\n",
       "822        83.0  Hayao Miyazaki  Shûichirô Moriyama        Tokiko Katô   \n",
       "952        74.0  Norman Jewison   Denzel Washington  Vicellous Shannon   \n",
       "\n",
       "                  Star3             Star4  No_of_Votes       Gross  \n",
       "822   Bunshi Katsura Vi  Tsunehiko Kamijô        77798         NaN  \n",
       "952  Deborah Kara Unger    Liev Schreiber        91557  50,668,906  "
      ]
     },
     "execution_count": 3,
     "metadata": {},
     "output_type": "execute_result"
    }
   ],
   "source": [
    "movie_df = pd.read_csv(\"movie_dataset.csv\")\n",
    "movie_df.head(4)\n",
    "movie_df.sample(2)"
   ]
  },
  {
   "cell_type": "markdown",
   "id": "1bb709fe",
   "metadata": {},
   "source": [
    "# **some information of dataframe**"
   ]
  },
  {
   "cell_type": "code",
   "execution_count": 4,
   "id": "6249f5e8",
   "metadata": {},
   "outputs": [
    {
     "name": "stdout",
     "output_type": "stream",
     "text": [
      "<class 'pandas.core.frame.DataFrame'>\n",
      "RangeIndex: 1000 entries, 0 to 999\n",
      "Data columns (total 16 columns):\n",
      " #   Column         Non-Null Count  Dtype  \n",
      "---  ------         --------------  -----  \n",
      " 0   Poster_Link    1000 non-null   object \n",
      " 1   Series_Title   1000 non-null   object \n",
      " 2   Released_Year  1000 non-null   object \n",
      " 3   Certificate    899 non-null    object \n",
      " 4   Runtime        1000 non-null   object \n",
      " 5   Genre          1000 non-null   object \n",
      " 6   IMDB_Rating    1000 non-null   float64\n",
      " 7   Overview       1000 non-null   object \n",
      " 8   Meta_score     843 non-null    float64\n",
      " 9   Director       1000 non-null   object \n",
      " 10  Star1          1000 non-null   object \n",
      " 11  Star2          1000 non-null   object \n",
      " 12  Star3          1000 non-null   object \n",
      " 13  Star4          1000 non-null   object \n",
      " 14  No_of_Votes    1000 non-null   int64  \n",
      " 15  Gross          831 non-null    object \n",
      "dtypes: float64(2), int64(1), object(13)\n",
      "memory usage: 125.1+ KB\n",
      "\n",
      "\n",
      "\n",
      "\n",
      "size of column Poster_Link :1000\n",
      "size of column Series_Title :1000\n",
      "size of column Released_Year :1000\n",
      "size of column Certificate :1000\n",
      "size of column Runtime :1000\n",
      "size of column Genre :1000\n",
      "size of column IMDB_Rating :1000\n",
      "size of column Overview :1000\n",
      "size of column Meta_score :1000\n",
      "size of column Director :1000\n",
      "size of column Star1 :1000\n",
      "size of column Star2 :1000\n",
      "size of column Star3 :1000\n",
      "size of column Star4 :1000\n",
      "size of column No_of_Votes :1000\n",
      "size of column Gross :1000\n"
     ]
    },
    {
     "data": {
      "text/html": [
       "<div>\n",
       "<style scoped>\n",
       "    .dataframe tbody tr th:only-of-type {\n",
       "        vertical-align: middle;\n",
       "    }\n",
       "\n",
       "    .dataframe tbody tr th {\n",
       "        vertical-align: top;\n",
       "    }\n",
       "\n",
       "    .dataframe thead th {\n",
       "        text-align: right;\n",
       "    }\n",
       "</style>\n",
       "<table border=\"1\" class=\"dataframe\">\n",
       "  <thead>\n",
       "    <tr style=\"text-align: right;\">\n",
       "      <th></th>\n",
       "      <th>IMDB_Rating</th>\n",
       "      <th>Meta_score</th>\n",
       "      <th>No_of_Votes</th>\n",
       "    </tr>\n",
       "  </thead>\n",
       "  <tbody>\n",
       "    <tr>\n",
       "      <th>count</th>\n",
       "      <td>1000.000000</td>\n",
       "      <td>843.000000</td>\n",
       "      <td>1.000000e+03</td>\n",
       "    </tr>\n",
       "    <tr>\n",
       "      <th>mean</th>\n",
       "      <td>7.949300</td>\n",
       "      <td>77.971530</td>\n",
       "      <td>2.736929e+05</td>\n",
       "    </tr>\n",
       "    <tr>\n",
       "      <th>std</th>\n",
       "      <td>0.275491</td>\n",
       "      <td>12.376099</td>\n",
       "      <td>3.273727e+05</td>\n",
       "    </tr>\n",
       "    <tr>\n",
       "      <th>min</th>\n",
       "      <td>7.600000</td>\n",
       "      <td>28.000000</td>\n",
       "      <td>2.508800e+04</td>\n",
       "    </tr>\n",
       "    <tr>\n",
       "      <th>25%</th>\n",
       "      <td>7.700000</td>\n",
       "      <td>70.000000</td>\n",
       "      <td>5.552625e+04</td>\n",
       "    </tr>\n",
       "    <tr>\n",
       "      <th>50%</th>\n",
       "      <td>7.900000</td>\n",
       "      <td>79.000000</td>\n",
       "      <td>1.385485e+05</td>\n",
       "    </tr>\n",
       "    <tr>\n",
       "      <th>75%</th>\n",
       "      <td>8.100000</td>\n",
       "      <td>87.000000</td>\n",
       "      <td>3.741612e+05</td>\n",
       "    </tr>\n",
       "    <tr>\n",
       "      <th>max</th>\n",
       "      <td>9.300000</td>\n",
       "      <td>100.000000</td>\n",
       "      <td>2.343110e+06</td>\n",
       "    </tr>\n",
       "  </tbody>\n",
       "</table>\n",
       "</div>"
      ],
      "text/plain": [
       "       IMDB_Rating  Meta_score   No_of_Votes\n",
       "count  1000.000000  843.000000  1.000000e+03\n",
       "mean      7.949300   77.971530  2.736929e+05\n",
       "std       0.275491   12.376099  3.273727e+05\n",
       "min       7.600000   28.000000  2.508800e+04\n",
       "25%       7.700000   70.000000  5.552625e+04\n",
       "50%       7.900000   79.000000  1.385485e+05\n",
       "75%       8.100000   87.000000  3.741612e+05\n",
       "max       9.300000  100.000000  2.343110e+06"
      ]
     },
     "execution_count": 4,
     "metadata": {},
     "output_type": "execute_result"
    }
   ],
   "source": [
    "movie_df.info()\n",
    "print(\"\\n\\n\\n\")\n",
    "\n",
    "#each column size\n",
    "for i in movie_df.columns:\n",
    "  print(f\"size of column {i} :{movie_df[i].size}\")\n",
    "\n",
    "movie_df.describe()"
   ]
  },
  {
   "cell_type": "markdown",
   "id": "6671747e",
   "metadata": {},
   "source": [
    "# **save describe in a dataframe**"
   ]
  },
  {
   "cell_type": "code",
   "execution_count": 5,
   "id": "986df468",
   "metadata": {},
   "outputs": [
    {
     "data": {
      "text/plain": [
       "np.float64(7.949299999999999)"
      ]
     },
     "execution_count": 5,
     "metadata": {},
     "output_type": "execute_result"
    }
   ],
   "source": [
    "describe_df = movie_df.describe()\n",
    "describe_df['IMDB_Rating']['mean']"
   ]
  },
  {
   "cell_type": "markdown",
   "id": "60a29c6d",
   "metadata": {},
   "source": [
    "# **shape and index and ....**"
   ]
  },
  {
   "cell_type": "code",
   "execution_count": 6,
   "id": "b9fc0ef6",
   "metadata": {},
   "outputs": [
    {
     "name": "stdout",
     "output_type": "stream",
     "text": [
      "shape = (1000, 16)\n",
      "index = RangeIndex(start=0, stop=1000, step=1)\n"
     ]
    }
   ],
   "source": [
    "print(\"shape =\",movie_df.shape)\n",
    "print(\"index =\",movie_df.index)"
   ]
  },
  {
   "cell_type": "markdown",
   "id": "a07925f3",
   "metadata": {},
   "source": [
    "# **nan data for each column**"
   ]
  },
  {
   "cell_type": "code",
   "execution_count": 9,
   "id": "0b642050",
   "metadata": {},
   "outputs": [
    {
     "data": {
      "text/plain": [
       "Poster_Link        0\n",
       "Series_Title       0\n",
       "Released_Year      0\n",
       "Certificate      101\n",
       "Runtime            0\n",
       "Genre              0\n",
       "IMDB_Rating        0\n",
       "Overview           0\n",
       "Meta_score       157\n",
       "Director           0\n",
       "Star1              0\n",
       "Star2              0\n",
       "Star3              0\n",
       "Star4              0\n",
       "No_of_Votes        0\n",
       "Gross            169\n",
       "dtype: int64"
      ]
     },
     "execution_count": 9,
     "metadata": {},
     "output_type": "execute_result"
    }
   ],
   "source": [
    "movie_df.isna().sum()"
   ]
  },
  {
   "cell_type": "markdown",
   "id": "d6855081",
   "metadata": {},
   "source": [
    "# **number of rows (sample)**"
   ]
  },
  {
   "cell_type": "code",
   "execution_count": 23,
   "id": "01b1569e",
   "metadata": {},
   "outputs": [
    {
     "data": {
      "text/plain": [
       "1000"
      ]
     },
     "execution_count": 23,
     "metadata": {},
     "output_type": "execute_result"
    }
   ],
   "source": [
    "len(movie_df)"
   ]
  }
 ],
 "metadata": {
  "kernelspec": {
   "display_name": "Python 3",
   "language": "python",
   "name": "python3"
  },
  "language_info": {
   "codemirror_mode": {
    "name": "ipython",
    "version": 3
   },
   "file_extension": ".py",
   "mimetype": "text/x-python",
   "name": "python",
   "nbconvert_exporter": "python",
   "pygments_lexer": "ipython3",
   "version": "3.13.1"
  }
 },
 "nbformat": 4,
 "nbformat_minor": 5
}
